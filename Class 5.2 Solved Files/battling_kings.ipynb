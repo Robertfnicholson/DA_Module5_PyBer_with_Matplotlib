{
 "cells": [
  {
   "cell_type": "code",
   "execution_count": null,
   "metadata": {},
   "outputs": [],
   "source": [
    "%matplotlib notebook"
   ]
  },
  {
   "cell_type": "code",
   "execution_count": null,
   "metadata": {},
   "outputs": [],
   "source": [
    "# Dependencies\n",
    "import matplotlib.pyplot as plt\n",
    "import numpy as np\n",
    "import pandas as pd"
   ]
  },
  {
   "cell_type": "code",
   "execution_count": null,
   "metadata": {},
   "outputs": [],
   "source": [
    "# Read CSV\n",
    "got_data = pd.read_csv(\"/Users/nmeyer/Desktop/Bootcamp/M5 - Matplotlib/Week 5 - Class 2/BattlingKings/got.csv\")\n",
    "got_data"
   ]
  },
  {
   "cell_type": "code",
   "execution_count": null,
   "metadata": {},
   "outputs": [],
   "source": [
    "# Get attacker and defender king data\n",
    "attacker_data = got_data[\"attacker_king\"].value_counts()\n",
    "defender_data = got_data[\"defender_king\"].value_counts()\n",
    "\n",
    "print(attacker_data)\n",
    "print('')\n",
    "print(defender_data)"
   ]
  },
  {
   "cell_type": "code",
   "execution_count": null,
   "metadata": {},
   "outputs": [],
   "source": [
    "# Get total battle data\n",
    "battle_data = attacker_data.add(defender_data, fill_value=0)\n",
    "battle_data"
   ]
  },
  {
   "cell_type": "code",
   "execution_count": null,
   "metadata": {},
   "outputs": [],
   "source": [
    "# Configure plot and ticks\n",
    "battle_data.plot(kind=\"bar\", facecolor=\"red\")\n",
    "\n",
    "# Set textual properties\n",
    "plt.title(\"The Bloodthirst of Kings\")\n",
    "plt.ylabel(\"Number of Battles Participated In\")\n",
    "plt.xlabel(\"King\")\n",
    "plt.xticks(rotation=45)\n",
    "\n",
    "# Show plot\n",
    "plt.show()\n",
    "\n",
    "# Resize plot to display labels\n",
    "plt.tight_layout()"
   ]
  },
  {
   "cell_type": "code",
   "execution_count": null,
   "metadata": {},
   "outputs": [],
   "source": []
  },
  {
   "cell_type": "code",
   "execution_count": null,
   "metadata": {},
   "outputs": [],
   "source": []
  }
 ],
 "metadata": {
  "kernelspec": {
   "display_name": "Python 3 (ipykernel)",
   "language": "python",
   "name": "python3"
  },
  "language_info": {
   "codemirror_mode": {
    "name": "ipython",
    "version": 3
   },
   "file_extension": ".py",
   "mimetype": "text/x-python",
   "name": "python",
   "nbconvert_exporter": "python",
   "pygments_lexer": "ipython3",
   "version": "3.7.11"
  }
 },
 "nbformat": 4,
 "nbformat_minor": 2
}
